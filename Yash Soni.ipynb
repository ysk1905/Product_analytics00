{
 "cells": [
  {
   "cell_type": "code",
   "execution_count": 9,
   "metadata": {},
   "outputs": [],
   "source": [
    "import pandas as pd\n",
    "import matplotlib.pyplot as plt\n",
    "import numpy as np"
   ]
  },
  {
   "cell_type": "code",
   "execution_count": 12,
   "metadata": {},
   "outputs": [],
   "source": [
    "data=pd.read_csv('sample.csv')"
   ]
  },
  {
   "cell_type": "code",
   "execution_count": 15,
   "metadata": {},
   "outputs": [
    {
     "data": {
      "text/html": [
       "<div>\n",
       "<style scoped>\n",
       "    .dataframe tbody tr th:only-of-type {\n",
       "        vertical-align: middle;\n",
       "    }\n",
       "\n",
       "    .dataframe tbody tr th {\n",
       "        vertical-align: top;\n",
       "    }\n",
       "\n",
       "    .dataframe thead th {\n",
       "        text-align: right;\n",
       "    }\n",
       "</style>\n",
       "<table border=\"1\" class=\"dataframe\">\n",
       "  <thead>\n",
       "    <tr style=\"text-align: right;\">\n",
       "      <th></th>\n",
       "      <th>Session date</th>\n",
       "      <th>User Profile Created date</th>\n",
       "      <th>Session type</th>\n",
       "      <th>Session number</th>\n",
       "      <th>User ID</th>\n",
       "      <th>Device</th>\n",
       "      <th>Country</th>\n",
       "    </tr>\n",
       "  </thead>\n",
       "  <tbody>\n",
       "    <tr>\n",
       "      <th>0</th>\n",
       "      <td>03-06-2021</td>\n",
       "      <td>29-05-2021</td>\n",
       "      <td>B</td>\n",
       "      <td>2</td>\n",
       "      <td>44344</td>\n",
       "      <td>iOS</td>\n",
       "      <td>India</td>\n",
       "    </tr>\n",
       "    <tr>\n",
       "      <th>1</th>\n",
       "      <td>03-06-2021</td>\n",
       "      <td>29-05-2021</td>\n",
       "      <td>C</td>\n",
       "      <td>3</td>\n",
       "      <td>44345</td>\n",
       "      <td>android</td>\n",
       "      <td>India</td>\n",
       "    </tr>\n",
       "    <tr>\n",
       "      <th>2</th>\n",
       "      <td>03-06-2021</td>\n",
       "      <td>29-05-2021</td>\n",
       "      <td>C</td>\n",
       "      <td>3</td>\n",
       "      <td>44345</td>\n",
       "      <td>android</td>\n",
       "      <td>India</td>\n",
       "    </tr>\n",
       "    <tr>\n",
       "      <th>3</th>\n",
       "      <td>03-06-2021</td>\n",
       "      <td>29-05-2021</td>\n",
       "      <td>B</td>\n",
       "      <td>3</td>\n",
       "      <td>44347</td>\n",
       "      <td>android</td>\n",
       "      <td>Singapore</td>\n",
       "    </tr>\n",
       "    <tr>\n",
       "      <th>4</th>\n",
       "      <td>03-06-2021</td>\n",
       "      <td>29-05-2021</td>\n",
       "      <td>C</td>\n",
       "      <td>1</td>\n",
       "      <td>44348</td>\n",
       "      <td>android</td>\n",
       "      <td>Singapore</td>\n",
       "    </tr>\n",
       "    <tr>\n",
       "      <th>...</th>\n",
       "      <td>...</td>\n",
       "      <td>...</td>\n",
       "      <td>...</td>\n",
       "      <td>...</td>\n",
       "      <td>...</td>\n",
       "      <td>...</td>\n",
       "      <td>...</td>\n",
       "    </tr>\n",
       "    <tr>\n",
       "      <th>1975</th>\n",
       "      <td>17-06-2021</td>\n",
       "      <td>16-06-2021</td>\n",
       "      <td>B</td>\n",
       "      <td>2</td>\n",
       "      <td>44551</td>\n",
       "      <td>android</td>\n",
       "      <td>India</td>\n",
       "    </tr>\n",
       "    <tr>\n",
       "      <th>1976</th>\n",
       "      <td>17-06-2021</td>\n",
       "      <td>16-06-2021</td>\n",
       "      <td>A</td>\n",
       "      <td>3</td>\n",
       "      <td>44551</td>\n",
       "      <td>android</td>\n",
       "      <td>India</td>\n",
       "    </tr>\n",
       "    <tr>\n",
       "      <th>1977</th>\n",
       "      <td>17-06-2021</td>\n",
       "      <td>16-06-2021</td>\n",
       "      <td>C</td>\n",
       "      <td>3</td>\n",
       "      <td>44551</td>\n",
       "      <td>android</td>\n",
       "      <td>India</td>\n",
       "    </tr>\n",
       "    <tr>\n",
       "      <th>1978</th>\n",
       "      <td>17-06-2021</td>\n",
       "      <td>16-06-2021</td>\n",
       "      <td>A</td>\n",
       "      <td>2</td>\n",
       "      <td>44552</td>\n",
       "      <td>iOS</td>\n",
       "      <td>India</td>\n",
       "    </tr>\n",
       "    <tr>\n",
       "      <th>1979</th>\n",
       "      <td>17-06-2021</td>\n",
       "      <td>16-06-2021</td>\n",
       "      <td>B</td>\n",
       "      <td>2</td>\n",
       "      <td>44552</td>\n",
       "      <td>iOS</td>\n",
       "      <td>India</td>\n",
       "    </tr>\n",
       "  </tbody>\n",
       "</table>\n",
       "<p>1980 rows × 7 columns</p>\n",
       "</div>"
      ],
      "text/plain": [
       "     Session date User Profile Created date Session type  Session number  \\\n",
       "0      03-06-2021                29-05-2021            B               2   \n",
       "1      03-06-2021                29-05-2021            C               3   \n",
       "2      03-06-2021                29-05-2021            C               3   \n",
       "3      03-06-2021                29-05-2021            B               3   \n",
       "4      03-06-2021                29-05-2021            C               1   \n",
       "...           ...                       ...          ...             ...   \n",
       "1975   17-06-2021                16-06-2021            B               2   \n",
       "1976   17-06-2021                16-06-2021            A               3   \n",
       "1977   17-06-2021                16-06-2021            C               3   \n",
       "1978   17-06-2021                16-06-2021            A               2   \n",
       "1979   17-06-2021                16-06-2021            B               2   \n",
       "\n",
       "      User ID   Device    Country  \n",
       "0       44344      iOS      India  \n",
       "1       44345  android      India  \n",
       "2       44345  android      India  \n",
       "3       44347  android  Singapore  \n",
       "4       44348  android  Singapore  \n",
       "...       ...      ...        ...  \n",
       "1975    44551  android      India  \n",
       "1976    44551  android      India  \n",
       "1977    44551  android      India  \n",
       "1978    44552      iOS      India  \n",
       "1979    44552      iOS      India  \n",
       "\n",
       "[1980 rows x 7 columns]"
      ]
     },
     "execution_count": 15,
     "metadata": {},
     "output_type": "execute_result"
    }
   ],
   "source": [
    "# viewing the sample data\n",
    "data"
   ]
  },
  {
   "cell_type": "code",
   "execution_count": 52,
   "metadata": {},
   "outputs": [
    {
     "data": {
      "image/png": "[encoded data removed]",
      "text/plain": [
       "<Figure size 500x500 with 1 Axes>"
      ]
     },
     "metadata": {
      "needs_background": "light"
     },
     "output_type": "display_data"
    }
   ],
   "source": [
    "#Distribution of users by number of sessions completed in this time period\n",
    "plt.figure(figsize=(5,5),dpi=100)\n",
    "plt.hist(data['Session number'])\n",
    "plt.ylabel(\"Numbers of Users\")\n",
    "plt.xlabel(\" Number of sessions completed (Session Number)\")\n",
    "plt.show()"
   ]
  },
  {
   "cell_type": "code",
   "execution_count": null,
   "metadata": {},
   "outputs": [],
   "source": [
    "#Session Number 4 has highest users"
   ]
  },
  {
   "cell_type": "code",
   "execution_count": 54,
   "metadata": {},
   "outputs": [
    {
     "data": {
      "text/plain": [
       "Text(0.5, 0, ' Session Type')"
      ]
     },
     "execution_count": 54,
     "metadata": {},
     "output_type": "execute_result"
    },
    {
     "data": {
      "image/png": "[encoded data removed]",
      "text/plain": [
       "<Figure size 500x500 with 1 Axes>"
      ]
     },
     "metadata": {
      "needs_background": "light"
     },
     "output_type": "display_data"
    }
   ],
   "source": [
    "#Which session type (A, B, or C?) is able to bring back users most often within a period of 7 days since the first session?\n",
    "plt.figure(figsize=(5,5),dpi=100)\n",
    "plt.hist(data['Session type'])\n",
    "plt.ylabel(\"Users\")\n",
    "plt.xlabel(\" Session Type\")"
   ]
  },
  {
   "cell_type": "code",
   "execution_count": 48,
   "metadata": {},
   "outputs": [],
   "source": [
    "#C session is able to bring back users most often"
   ]
  },
  {
   "cell_type": "code",
   "execution_count": 62,
   "metadata": {},
   "outputs": [
    {
     "data": {
      "image/png": "[encoded data removed]",
      "text/plain": [
       "<Figure size 500x500 with 1 Axes>"
      ]
     },
     "metadata": {},
     "output_type": "display_data"
    }
   ],
   "source": [
    "plt.figure(figsize=(5,5),dpi=100)\n",
    "India=data.loc[data['Country']=='India'].count()[0]\n",
    "Singapore=data.loc[data['Country']=='Singapore'].count()[0]\n",
    "labels=[\"India\",\"Singapore\"]\n",
    "plt.pie([India,Singapore],labels=labels)\n",
    "plt.show()"
   ]
  },
  {
   "cell_type": "code",
   "execution_count": 67,
   "metadata": {},
   "outputs": [
    {
     "data": {
      "image/png": "[encoded data removed]",
      "text/plain": [
       "<Figure size 500x800 with 1 Axes>"
      ]
     },
     "metadata": {},
     "output_type": "display_data"
    }
   ],
   "source": [
    "plt.figure(figsize=(5,8),dpi=100)\n",
    "plt.style.use('default')\n",
    "android=data.loc[data.Device==\"android\"][\"Session number\"]\n",
    "plt.ylabel(\"Session Number\")\n",
    "bp=plt.boxplot([android],labels=[\"Android\"])\n",
    "plt.show()"
   ]
  },
  {
   "cell_type": "code",
   "execution_count": null,
   "metadata": {},
   "outputs": [],
   "source": []
  }
 ],
 "metadata": {
  "kernelspec": {
   "display_name": "Python 3",
   "language": "python",
   "name": "python3"
  },
  "language_info": {
   "codemirror_mode": {
    "name": "ipython",
    "version": 3
   },
   "file_extension": ".py",
   "mimetype": "text/x-python",
   "name": "python",
   "nbconvert_exporter": "python",
   "pygments_lexer": "ipython3",
   "version": "3.8.3"
  }
 },
 "nbformat": 4,
 "nbformat_minor": 4
}
